{
 "cells": [
  {
   "attachments": {},
   "cell_type": "markdown",
   "metadata": {},
   "source": [
    "# Konfiguracja atomowa a kolor atomu\n",
    "**Kolory** atomów są często powiązane z **konfiguracją elektronową**, która opisuje rozmieszczenie elektronów wokół jądra atomowego. Konfiguracja elektronowa jest wynikiem podziału elektronów na różne poziomy energetyczne, podpowłok i powłok.\n",
    "\n",
    "Związki między konfiguracją elektronową a kolorami atomów wynikają z interakcji między elektronami a promieniowaniem elektromagnetycznym. Kiedy atom otrzymuje energię w postaci światła, elektrony na niższych poziomach energetycznych mogą przeskakiwać na wyższe poziomy energetyczne. Gdy elektron powraca do niższego poziomu energetycznego, uwalniana jest energia w postaci światła. Charakterystyka tego emitowanego światła, czyli jego długość fali, determinuje kolor widziany przez nasz wzrok.\n",
    "\n",
    "Także w teorii powiniśmy móc wykryć różne zależności między konfiguracją atomową, a kolorem atomów. Spróbujmy to zrobić.\n",
    "\n",
    "## Pobranie bibliotek\n",
    "Żeby wykonać taką analizę w pythonie potrzebujemy kilku bibliotek. Przede wszystkim *Pandas* pomoże nam w obrabianiu danych, *Colormath* w przeliczaniu parametrów oraz *MatPlotLib* w celu wyświetlenia uzyskanych wyników"
   ]
  },
  {
   "cell_type": "code",
   "execution_count": 3,
   "metadata": {},
   "outputs": [],
   "source": [
    "import pandas\n",
    "from colormath.color_objects import sRGBColor, xyYColor, LabColor\n",
    "from colormath.color_conversions import convert_color\n",
    "import matplotlib.pyplot as plt\n",
    "from mpl_toolkits import mplot3d\n",
    "from mpl_toolkits.mplot3d import Axes3D"
   ]
  },
  {
   "attachments": {},
   "cell_type": "markdown",
   "metadata": {},
   "source": [
    "## Dane\n",
    "Teraz czas na zaczytanie danych. Pobrałem je z [tego repozytorium](https://github.com/andrejewski/periodic-table/blob/master/data.csv) i nieznacznie poprawiłem, ale o tym później. Od razu też zobaczmy jak wyglądają dane, które mamy."
   ]
  },
  {
   "cell_type": "code",
   "execution_count": null,
   "metadata": {},
   "outputs": [
    {
     "name": "stdout",
     "output_type": "stream",
     "text": [
      "     atomicNumber  symbol          name    atomicMass  cpkHexColor   \n",
      "0               1      H       Hydrogen    1.00794(4)       FFFFFF  \\\n",
      "1               2     He         Helium   4.002602(2)       D9FFFF   \n",
      "2               3     Li        Lithium      6.941(2)       CC80FF   \n",
      "3               4     Be      Beryllium   9.012182(3)       C2FF00   \n",
      "4               5      B          Boron     10.811(7)       FFB5B5   \n",
      "..            ...     ...           ...           ...          ...   \n",
      "113           114     Fl      Flerovium         [289]          NaN   \n",
      "114           115     Mc      Moscovium         [288]          NaN   \n",
      "115           116     Lv    Livermorium         [293]          NaN   \n",
      "116           117     Ts     Tennessine         [294]          NaN   \n",
      "117           118     Og      Oganesson        [294]           NaN   \n",
      "\n",
      "     electronicConfiguration   electronegativity   atomicRadius  ionRadius   \n",
      "0                       1s1                 2.20           37.0        NaN  \\\n",
      "1                       1s2                  NaN           32.0        NaN   \n",
      "2                  [He] 2s1                 0.98          134.0    76 (+1)   \n",
      "3                  [He] 2s2                 1.57           90.0    45 (+2)   \n",
      "4              [He] 2s2 2p1                 2.04           82.0    27 (+3)   \n",
      "..                       ...                 ...            ...        ...   \n",
      "113  [Rn] 5f14 6d10 7s2 7p2                  NaN            NaN        NaN   \n",
      "114  [Rn] 5f14 6d10 7s2 7p3                  NaN            NaN        NaN   \n",
      "115  [Rn] 5f14 6d10 7s2 7p4                  NaN            NaN        NaN   \n",
      "116  [Rn] 5f14 6d10 7s2 7p5                  NaN            NaN        NaN   \n",
      "117  [Rn] 5f14 6d10 7s2 7p6                  NaN            NaN        NaN   \n",
      "\n",
      "      vanDelWaalsRadius   ionizationEnergy   electronAffinity   \n",
      "0                 120.0             1312.0              -73.0  \\\n",
      "1                 140.0             2372.0                0.0   \n",
      "2                 182.0              520.0              -60.0   \n",
      "3                   NaN              900.0                0.0   \n",
      "4                   NaN              801.0              -27.0   \n",
      "..                  ...                ...                ...   \n",
      "113                 NaN                NaN                NaN   \n",
      "114                 NaN                NaN                NaN   \n",
      "115                 NaN                NaN                NaN   \n",
      "116                 NaN                NaN                NaN   \n",
      "117                 NaN                NaN                NaN   \n",
      "\n",
      "     oxidationStates  standardState       bondingType   meltingPoint   \n",
      "0              -1, 1            gas          diatomic           14.0  \\\n",
      "1                NaN            gas            atomic            NaN   \n",
      "2                  1          solid          metallic          454.0   \n",
      "3                  2          solid          metallic         1560.0   \n",
      "4            1, 2, 3          solid  covalent network         2348.0   \n",
      "..               ...            ...               ...            ...   \n",
      "113              NaN            NaN               NaN            NaN   \n",
      "114              NaN            NaN               NaN            NaN   \n",
      "115              NaN            NaN               NaN            NaN   \n",
      "116              NaN            NaN               NaN            NaN   \n",
      "117              NaN            NaN               NaN            NaN   \n",
      "\n",
      "      boilingPoint   density             groupBlock  yearDiscovered  \n",
      "0             20.0  0.000090               nonmetal            1766  \n",
      "1              4.0  0.000179              noble gas            1868  \n",
      "2           1615.0  0.535000           alkali metal            1817  \n",
      "3           2743.0  1.848000   alkaline earth metal            1798  \n",
      "4           4273.0  2.460000              metalloid            1807  \n",
      "..             ...       ...                    ...             ...  \n",
      "113            NaN       NaN  post-transition metal            1998  \n",
      "114            NaN       NaN  post-transition metal            2003  \n",
      "115            NaN       NaN  post-transition metal            2000  \n",
      "116            NaN       NaN  post-transition metal            2010  \n",
      "117            NaN       NaN              noble gas            2002  \n",
      "\n",
      "[118 rows x 20 columns]\n"
     ]
    }
   ],
   "source": [
    "atomy = pandas.read_csv('data.csv')\n",
    "print(atomy.head())"
   ]
  },
  {
   "attachments": {},
   "cell_type": "markdown",
   "metadata": {},
   "source": [
    "Jak widać mamy dostęp od informacji najbardziej podstawowych, jak symbol czy masa, przez potrzebną nam konfigurację i kolor, aż do rozmaitych mniej oczywistych właściwości. Wypiszmy dokładną listę dostępnych właściwości. Zwróć uwagę, że większość nazw ma w sobie spację, co trzeba uwzględnić przy pisaniu kodu, gdybyś też chciał skorzystac z tych danych."
   ]
  },
  {
   "cell_type": "code",
   "execution_count": 5,
   "metadata": {},
   "outputs": [
    {
     "name": "stdout",
     "output_type": "stream",
     "text": [
      "['atomicNumber', ' symbol', ' name', ' atomicMass', ' cpkHexColor', ' electronicConfiguration', ' electronegativity', ' atomicRadius', ' ionRadius', ' vanDelWaalsRadius', ' ionizationEnergy', ' electronAffinity', ' oxidationStates', ' standardState', ' bondingType', ' meltingPoint', ' boilingPoint', 'density', ' groupBlock', ' yearDiscovered']\n"
     ]
    }
   ],
   "source": [
    "print(atomy.columns.values.tolist())"
   ]
  },
  {
   "attachments": {},
   "cell_type": "markdown",
   "metadata": {},
   "source": [
    "Skoro już wiemy dokładnie co chcemy skopiować, to to zróbmy. Stwórzy nową ramkę danych (dataFrame) o nazwie \"atomy_kolory\", która będzie zawierać informację tylko nam potrzebne, czyli numer, symbol, kolor w hex-ie oraz konfigurację. Odrazu też pozbądźmy się wierszy z pustymi wartościami przy pomocy komendy **dropna**. Największe atomy są wyjątkowo **niestabilne** i udaje się je stworzyć tylko niezwykle krótki czas, pomiar koloru **nie jest przez to możliwy**, stąd puste wiersze któe nas nieinteresują. "
   ]
  },
  {
   "cell_type": "code",
   "execution_count": 6,
   "metadata": {},
   "outputs": [
    {
     "name": "stdout",
     "output_type": "stream",
     "text": [
      "     atomicNumber  symbol  cpkHexColor  electronicConfiguration\n",
      "0               1      H        FFFFFF                     1s1 \n",
      "1               2     He        D9FFFF                     1s2 \n",
      "2               3     Li        CC80FF                [He] 2s1 \n",
      "3               4     Be        C2FF00                [He] 2s2 \n",
      "4               5      B        FFB5B5            [He] 2s2 2p1 \n",
      "..            ...     ...          ...                      ...\n",
      "104           105     Db        D1004F       [Rn] 5f14 6d3 7s2 \n",
      "105           106     Sg        D90045       [Rn] 5f14 6d4 7s2 \n",
      "106           107     Bh        E00038       [Rn] 5f14 6d5 7s2 \n",
      "107           108     Hs        E6002E       [Rn] 5f14 6d6 7s2 \n",
      "108           109     Mt        EB0026       [Rn] 5f14 6d7 7s2 \n",
      "\n",
      "[109 rows x 4 columns]\n"
     ]
    }
   ],
   "source": [
    "atomy_kolory = atomy[['atomicNumber',  ' symbol', ' cpkHexColor', ' electronicConfiguration']].copy()\n",
    "atomy_kolory = atomy_kolory.dropna()\n",
    "print(atomy_kolory)"
   ]
  },
  {
   "attachments": {},
   "cell_type": "markdown",
   "metadata": {},
   "source": [
    "Jednak nadal mamy pewien problem, kolor jest zapisany w hex-ie, nie jest to dla nas korzystne. Stwórzmy więc funckję, by zmienić tę wartość na standardowe RGB oraz Lab, obie wartości będą przydatne."
   ]
  },
  {
   "cell_type": "code",
   "execution_count": 8,
   "metadata": {},
   "outputs": [],
   "source": [
    "def kolor_konversion(hex):\n",
    "    ColorHex = hex\n",
    "    R = ColorHex[0:2]\n",
    "    G = ColorHex[2:4]\n",
    "    B = ColorHex[4:6]\n",
    "\n",
    "    B = int(B, base=16)\n",
    "    G = int(G, base=16)\n",
    "    R = int(R, base=16)\n",
    "\n",
    "    kolor_sRGB = sRGBColor(R, G, B, is_upscaled = True)\n",
    "    kolor_Lab = convert_color(kolor_sRGB, LabColor, target_illuminant='d50')\n",
    "    Lab = kolor_Lab.get_value_tuple()\n",
    "    return((kolor_sRGB.rgb_r, kolor_sRGB.rgb_g, kolor_sRGB.rgb_b), Lab)"
   ]
  },
  {
   "attachments": {},
   "cell_type": "markdown",
   "metadata": {},
   "source": [
    "Teraz dodajmy dwie kolumny z wartościami RGB oraz Lab. Dodam tutaj, że musiałem poprawić dwie wartości, które były niepoprawne. Palladium poprawiłem z 6985 do b1b1b1 a Erbium z 0 na 00FF9C."
   ]
  },
  {
   "cell_type": "code",
   "execution_count": 9,
   "metadata": {},
   "outputs": [
    {
     "name": "stdout",
     "output_type": "stream",
     "text": [
      "   atomicNumber  symbol  cpkHexColor  electronicConfiguration   \n",
      "0             1      H        FFFFFF                     1s1   \\\n",
      "1             2     He        D9FFFF                     1s2    \n",
      "2             3     Li        CC80FF                [He] 2s1    \n",
      "3             4     Be        C2FF00                [He] 2s2    \n",
      "4             5      B        FFB5B5            [He] 2s2 2p1    \n",
      "\n",
      "                                       RGB_color   \n",
      "0                                (1.0, 1.0, 1.0)  \\\n",
      "1                 (0.8509803921568627, 1.0, 1.0)   \n",
      "2                 (0.8, 0.5019607843137255, 1.0)   \n",
      "3                 (0.7607843137254902, 1.0, 0.0)   \n",
      "4  (1.0, 0.7098039215686275, 0.7098039215686275)   \n",
      "\n",
      "                                           LAB_color  \n",
      "0  (99.9998893565855, -0.0012758568349036103, -0....  \n",
      "1  (97.3041556015011, -12.609871764856228, -4.311...  \n",
      "2  (65.72658844657771, 46.60212363651001, -52.273...  \n",
      "3  (93.31619546771647, -39.55956206798672, 88.003...  \n",
      "4  (80.8363466163351, 27.67835087462189, 11.32553...  \n"
     ]
    }
   ],
   "source": [
    "HexKolorDF = atomy_kolory[' cpkHexColor']\n",
    "wektorKolor = []\n",
    "for i in HexKolorDF:\n",
    "    wektorKolor.append(kolor_konversion(i))\n",
    "\n",
    "RGB = []\n",
    "Lab = []\n",
    "for i in range(len(wektorKolor)):\n",
    "    RGB.append(wektorKolor[i][0])\n",
    "    Lab.append(wektorKolor[i][1])\n",
    "atomy_kolory['RGB_color'] = RGB\n",
    "atomy_kolory['LAB_color'] = Lab\n",
    "print(atomy_kolory.head())"
   ]
  },
  {
   "attachments": {},
   "cell_type": "markdown",
   "metadata": {},
   "source": [
    "## Wyświetlanie danych\n",
    "Czas na wyświetlenie naszych wyników i próbę znalezienia w nich jakiegoś sensu. Punkty wyświetlać będziemy w przestrzeni **Lab**, a każdy punkt będzie odpowiednio pokolorowany zgodnie z jego parametrami **RGB**."
   ]
  },
  {
   "cell_type": "code",
   "execution_count": null,
   "metadata": {},
   "outputs": [],
   "source": [
    "%matplotlib notebook\n",
    "\n",
    "Lab = atomy_kolory[\"LAB_color\"]\n",
    "RGB = atomy_kolory['RGB_color']\n",
    "config = atomy_kolory[' electronicConfiguration']\n",
    "atom = atomy_kolory[' symbol']\n",
    "x = []\n",
    "y = []\n",
    "z = []\n",
    "color = []\n",
    "podpis = []\n",
    "for i in range(len(Lab)):\n",
    "    x.append(Lab[i][1])\n",
    "    y.append(Lab[i][2])\n",
    "    z.append(Lab[i][0])\n",
    "    color.append(RGB[i])\n",
    "    podpis.append(atom[i])\n",
    "\n",
    "fig = plt.figure()\n",
    "ax = Axes3D(fig)\n",
    "\n",
    "#fig = plt.figure(figsize=(16,14))\n",
    "#ax = plt.axes(projection='3d')\n",
    "\n",
    "# Plot the data points as a scatter plot\n",
    "ax.scatter3D(x, y, z, c=color)\n",
    "for i in range(len(podpis)):\n",
    "    ax.text(x = x[i],y = y[i],z = z[i], s = podpis[i], zdir = None)\n",
    "\n",
    "# Set labels for the axes\n",
    "ax.set_xlabel('a')\n",
    "ax.set_ylabel('b')\n",
    "ax.set_zlabel('L')\n",
    "\n",
    "# Set a title for the plot\n",
    "ax.set_title('3D Scatter Plot')\n",
    "\n",
    "# Display the plot\n",
    "plt.show()"
   ]
  },
  {
   "attachments": {},
   "cell_type": "markdown",
   "metadata": {},
   "source": []
  }
 ],
 "metadata": {
  "kernelspec": {
   "display_name": "Python 3",
   "language": "python",
   "name": "python3"
  },
  "language_info": {
   "codemirror_mode": {
    "name": "ipython",
    "version": 3
   },
   "file_extension": ".py",
   "mimetype": "text/x-python",
   "name": "python",
   "nbconvert_exporter": "python",
   "pygments_lexer": "ipython3",
   "version": "3.11.1"
  },
  "orig_nbformat": 4
 },
 "nbformat": 4,
 "nbformat_minor": 2
}
