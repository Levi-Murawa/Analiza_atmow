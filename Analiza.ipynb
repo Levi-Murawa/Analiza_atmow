{
 "cells": [
  {
   "cell_type": "code",
   "execution_count": 1,
   "metadata": {},
   "outputs": [],
   "source": [
    "import pandas\n",
    "from colormath.color_objects import sRGBColor, xyYColor\n",
    "from colormath.color_conversions import convert_color"
   ]
  },
  {
   "cell_type": "code",
   "execution_count": 2,
   "metadata": {},
   "outputs": [
    {
     "name": "stdout",
     "output_type": "stream",
     "text": [
      "     atomicNumber  symbol          name    atomicMass  cpkHexColor   \n",
      "0               1      H       Hydrogen    1.00794(4)       FFFFFF  \\\n",
      "1               2     He         Helium   4.002602(2)       D9FFFF   \n",
      "2               3     Li        Lithium      6.941(2)       CC80FF   \n",
      "3               4     Be      Beryllium   9.012182(3)       C2FF00   \n",
      "4               5      B          Boron     10.811(7)       FFB5B5   \n",
      "..            ...     ...           ...           ...          ...   \n",
      "113           114     Fl      Flerovium         [289]          NaN   \n",
      "114           115     Mc      Moscovium         [288]          NaN   \n",
      "115           116     Lv    Livermorium         [293]          NaN   \n",
      "116           117     Ts     Tennessine         [294]          NaN   \n",
      "117           118     Og      Oganesson        [294]           NaN   \n",
      "\n",
      "     electronicConfiguration   electronegativity   atomicRadius  ionRadius   \n",
      "0                       1s1                 2.20           37.0        NaN  \\\n",
      "1                       1s2                  NaN           32.0        NaN   \n",
      "2                  [He] 2s1                 0.98          134.0    76 (+1)   \n",
      "3                  [He] 2s2                 1.57           90.0    45 (+2)   \n",
      "4              [He] 2s2 2p1                 2.04           82.0    27 (+3)   \n",
      "..                       ...                 ...            ...        ...   \n",
      "113  [Rn] 5f14 6d10 7s2 7p2                  NaN            NaN        NaN   \n",
      "114  [Rn] 5f14 6d10 7s2 7p3                  NaN            NaN        NaN   \n",
      "115  [Rn] 5f14 6d10 7s2 7p4                  NaN            NaN        NaN   \n",
      "116  [Rn] 5f14 6d10 7s2 7p5                  NaN            NaN        NaN   \n",
      "117  [Rn] 5f14 6d10 7s2 7p6                  NaN            NaN        NaN   \n",
      "\n",
      "      vanDelWaalsRadius   ionizationEnergy   electronAffinity   \n",
      "0                 120.0             1312.0              -73.0  \\\n",
      "1                 140.0             2372.0                0.0   \n",
      "2                 182.0              520.0              -60.0   \n",
      "3                   NaN              900.0                0.0   \n",
      "4                   NaN              801.0              -27.0   \n",
      "..                  ...                ...                ...   \n",
      "113                 NaN                NaN                NaN   \n",
      "114                 NaN                NaN                NaN   \n",
      "115                 NaN                NaN                NaN   \n",
      "116                 NaN                NaN                NaN   \n",
      "117                 NaN                NaN                NaN   \n",
      "\n",
      "     oxidationStates  standardState       bondingType   meltingPoint   \n",
      "0              -1, 1            gas          diatomic           14.0  \\\n",
      "1                NaN            gas            atomic            NaN   \n",
      "2                  1          solid          metallic          454.0   \n",
      "3                  2          solid          metallic         1560.0   \n",
      "4            1, 2, 3          solid  covalent network         2348.0   \n",
      "..               ...            ...               ...            ...   \n",
      "113              NaN            NaN               NaN            NaN   \n",
      "114              NaN            NaN               NaN            NaN   \n",
      "115              NaN            NaN               NaN            NaN   \n",
      "116              NaN            NaN               NaN            NaN   \n",
      "117              NaN            NaN               NaN            NaN   \n",
      "\n",
      "      boilingPoint   density             groupBlock  yearDiscovered  \n",
      "0             20.0  0.000090               nonmetal            1766  \n",
      "1              4.0  0.000179              noble gas            1868  \n",
      "2           1615.0  0.535000           alkali metal            1817  \n",
      "3           2743.0  1.848000   alkaline earth metal            1798  \n",
      "4           4273.0  2.460000              metalloid            1807  \n",
      "..             ...       ...                    ...             ...  \n",
      "113            NaN       NaN  post-transition metal            1998  \n",
      "114            NaN       NaN  post-transition metal            2003  \n",
      "115            NaN       NaN  post-transition metal            2000  \n",
      "116            NaN       NaN  post-transition metal            2010  \n",
      "117            NaN       NaN              noble gas            2002  \n",
      "\n",
      "[118 rows x 20 columns]\n"
     ]
    }
   ],
   "source": [
    "atomy = pandas.read_csv('data.csv')\n",
    "print(atomy)"
   ]
  },
  {
   "cell_type": "code",
   "execution_count": 16,
   "metadata": {},
   "outputs": [
    {
     "name": "stdout",
     "output_type": "stream",
     "text": [
      "['atomicNumber', ' symbol', ' name', ' atomicMass', ' cpkHexColor', ' electronicConfiguration', ' electronegativity', ' atomicRadius', ' ionRadius', ' vanDelWaalsRadius', ' ionizationEnergy', ' electronAffinity', ' oxidationStates', ' standardState', ' bondingType', ' meltingPoint', ' boilingPoint', 'density', ' groupBlock', ' yearDiscovered']\n"
     ]
    }
   ],
   "source": [
    "print(atomy.columns.values.tolist())"
   ]
  },
  {
   "cell_type": "code",
   "execution_count": 25,
   "metadata": {},
   "outputs": [
    {
     "name": "stdout",
     "output_type": "stream",
     "text": [
      "     atomicNumber  symbol  cpkHexColor  electronicConfiguration\n",
      "0               1      H        FFFFFF                     1s1 \n",
      "1               2     He        D9FFFF                     1s2 \n",
      "2               3     Li        CC80FF                [He] 2s1 \n",
      "3               4     Be        C2FF00                [He] 2s2 \n",
      "4               5      B        FFB5B5            [He] 2s2 2p1 \n",
      "..            ...     ...          ...                      ...\n",
      "104           105     Db        D1004F       [Rn] 5f14 6d3 7s2 \n",
      "105           106     Sg        D90045       [Rn] 5f14 6d4 7s2 \n",
      "106           107     Bh        E00038       [Rn] 5f14 6d5 7s2 \n",
      "107           108     Hs        E6002E       [Rn] 5f14 6d6 7s2 \n",
      "108           109     Mt        EB0026       [Rn] 5f14 6d7 7s2 \n",
      "\n",
      "[109 rows x 4 columns]\n"
     ]
    }
   ],
   "source": [
    "atomy_kolory = atomy[['atomicNumber',  ' symbol', ' cpkHexColor', ' electronicConfiguration']].copy()\n",
    "atomy_kolory = atomy_kolory.dropna()\n",
    "print(atomy_kolory)"
   ]
  },
  {
   "cell_type": "code",
   "execution_count": 29,
   "metadata": {},
   "outputs": [
    {
     "name": "stdout",
     "output_type": "stream",
     "text": [
      "D1 00 4F\n",
      "209 0 79\n"
     ]
    }
   ],
   "source": [
    "ColorHex = 'D1004F'\n",
    "R = ColorHex[0:2]\n",
    "G = ColorHex[2:4]\n",
    "B = ColorHex[4:6]\n",
    "print(R, G, B)\n",
    "\n",
    "B = int(B, base=16)\n",
    "G = int(G, base=16)\n",
    "R = int(R, base=16)\n",
    "print(R, G, B)"
   ]
  },
  {
   "cell_type": "code",
   "execution_count": 30,
   "metadata": {},
   "outputs": [
    {
     "data": {
      "text/plain": [
       "sRGBColor(rgb_r=0.8196078431372549,rgb_g=0.0,rgb_b=0.30980392156862746)"
      ]
     },
     "execution_count": 30,
     "metadata": {},
     "output_type": "execute_result"
    }
   ],
   "source": [
    "sRGBColor(R, G, B, is_upscaled=True)"
   ]
  },
  {
   "attachments": {},
   "cell_type": "markdown",
   "metadata": {},
   "source": []
  }
 ],
 "metadata": {
  "kernelspec": {
   "display_name": "Python 3",
   "language": "python",
   "name": "python3"
  },
  "language_info": {
   "codemirror_mode": {
    "name": "ipython",
    "version": 3
   },
   "file_extension": ".py",
   "mimetype": "text/x-python",
   "name": "python",
   "nbconvert_exporter": "python",
   "pygments_lexer": "ipython3",
   "version": "3.11.1"
  },
  "orig_nbformat": 4
 },
 "nbformat": 4,
 "nbformat_minor": 2
}
